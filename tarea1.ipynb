{
 "cells": [
  {
   "cell_type": "code",
   "execution_count": null,
   "id": "4bc89289",
   "metadata": {},
   "outputs": [],
   "source": [
    "import pandas as pd\n",
    "import seaborn as sbn\n",
    "import matplotlib.pyplot as plt\n",
    "import numpy as np\n",
    "from statsmodels import robust"
   ]
  },
  {
   "cell_type": "code",
   "execution_count": null,
   "id": "ab445cbd",
   "metadata": {},
   "outputs": [],
   "source": [
    "df1 = pd.read_csv('https://github.com/MinCiencia/Datos-COVID19/blob/master/output/producto1/Covid-19.csv?raw=true', sep=',')\n",
    "# Poblaciones por comuna\n",
    "\n",
    "df2 = pd.read_csv('https://github.com/MinCiencia/Datos-COVID19/blob/master/input/Paso_a_paso/paso_a_paso.csv?raw=true', sep=',')\n",
    "# Muestra en qué fase se encuentra cada comuna con su respectiva fecha\n",
    "\n",
    "pob=df1[['Region','Codigo region','Comuna','Codigo comuna','Poblacion']] \n",
    "pob=pob.dropna()\n",
    "# Campos: Region, codigo region, Comuna, codigo comuna y Poblacion"
   ]
  },
  {
   "cell_type": "code",
   "execution_count": null,
   "id": "a0bb6d7e",
   "metadata": {},
   "outputs": [],
   "source": [
    "pob['Poblacion']=pob['Poblacion'].astype(int)\n",
    "pob['Codigo comuna']=pob['Codigo comuna'].astype(int)\n",
    "# tanto poblacion como codigo comuna son valores float, por lo que deben ser convertidos a integer"
   ]
  },
  {
   "cell_type": "code",
   "execution_count": null,
   "id": "2dfae03c",
   "metadata": {},
   "outputs": [],
   "source": [
    "pasos=df2.melt(id_vars=[\"codigo_region\",\"region_residencia\",\"codigo_comuna\",\"comuna_residencia\",\"zona\"], var_name=\"fecha\", value_name=\"paso\")\n",
    "pasos1=pasos\n",
    "# Solo cuarentenas"
   ]
  },
  {
   "cell_type": "code",
   "execution_count": null,
   "id": "dd1be732",
   "metadata": {},
   "outputs": [],
   "source": [
    "pasos1=pasos1.rename(columns={'codigo_comuna':'Codigo comuna'})"
   ]
  },
  {
   "cell_type": "code",
   "execution_count": null,
   "id": "8d6edb8c",
   "metadata": {},
   "outputs": [],
   "source": [
    "paspob=pob.merge(pasos1, on='Codigo comuna') \n",
    "paspobr=pob.merge(pasos1, on='Codigo comuna')\n",
    "# Unir tablas"
   ]
  },
  {
   "cell_type": "code",
   "execution_count": null,
   "id": "5d07aa99",
   "metadata": {},
   "outputs": [],
   "source": [
    "cambio2 = (paspob['paso'] == 2)\n",
    "paspob['Poblacion'][cambio2] = 0\n",
    "cambio3 = (paspob['paso'] == 3)\n",
    "paspob['Poblacion'][cambio3] = 0\n",
    "cambio4 = (paspob['paso'] == 4)\n",
    "paspob['Poblacion'][cambio4] = 0\n",
    "cambio5 = (paspob['paso'] == 5)\n",
    "paspob['Poblacion'][cambio5] = 0\n",
    "paspob "
   ]
  },
  {
   "cell_type": "code",
   "execution_count": null,
   "id": "9f4af3e1",
   "metadata": {},
   "outputs": [],
   "source": [
    "cambior2 = (paspobr['paso'] == 2)\n",
    "paspobr['Poblacion'][cambior2] = 0\n",
    "cambior3 = (paspobr['paso'] == 3)\n",
    "paspobr['Poblacion'][cambior3] = 0\n",
    "cambior4 = (paspobr['paso'] == 4)\n",
    "paspobr['Poblacion'][cambior4] = 0\n",
    "cambior5 = (paspobr['paso'] == 5)\n",
    "paspobr['Poblacion'][cambior5] = 0\n",
    "# toma valores de poblacion 0 cuando las fases sean distintas a cuarentena"
   ]
  },
  {
   "cell_type": "code",
   "execution_count": null,
   "id": "71a94224",
   "metadata": {},
   "outputs": [],
   "source": [
    "paspob=paspob.sort_values(by='fecha', ascending=True)  \n",
    "paspob\n",
    "# orden de las fechas de mas antigua a mas actual"
   ]
  },
  {
   "cell_type": "code",
   "execution_count": null,
   "id": "4854ae83",
   "metadata": {},
   "outputs": [],
   "source": [
    "paspob.drop('paso', axis=1, inplace=True)\n",
    "paspob.drop('Comuna', axis=1, inplace=True)\n",
    "paspob.drop('Codigo comuna', axis=1, inplace=True)\n",
    "paspob.drop('codigo_region', axis=1, inplace=True)\n",
    "paspob.drop('Codigo region', axis=1, inplace=True)"
   ]
  },
  {
   "cell_type": "code",
   "execution_count": null,
   "id": "49b527bc",
   "metadata": {},
   "outputs": [],
   "source": [
    "paspobr.drop('paso', axis=1, inplace=True)\n",
    "paspobr.drop('Comuna', axis=1, inplace=True)\n",
    "paspobr.drop('Codigo comuna', axis=1, inplace=True)\n",
    "paspobr.drop('Region', axis=1, inplace=True)\n",
    "paspobr.drop('Codigo region', axis=1, inplace=True)\n",
    "paspobr.drop('zona', axis=1, inplace=True)\n",
    "paspobr.drop('comuna_residencia', axis=1, inplace=True)\n",
    "paspobr.drop('region_residencia', axis=1, inplace=True)"
   ]
  },
  {
   "cell_type": "code",
   "execution_count": null,
   "id": "d6fb587d",
   "metadata": {},
   "outputs": [],
   "source": [
    "t=paspob.groupby(['fecha']).sum() \n",
    "t\n"
   ]
  },
  {
   "cell_type": "code",
   "execution_count": null,
   "id": "b5191968",
   "metadata": {},
   "outputs": [],
   "source": [
    "sbn.lineplot(x='fecha', y='Poblacion', data=t)"
   ]
  },
  {
   "cell_type": "code",
   "execution_count": null,
   "id": "e748d075",
   "metadata": {},
   "outputs": [],
   "source": [
    "t.loc[t['Poblacion'] == t.max()[0]]\n",
    "# con la funcion loc obtengo las fechas donde el numero de personas en cuarentena en todo el pais alcanzo su valor maximo,\n",
    "# el que fue de 19.191.466 personas en las fechas 17 y 18 Abril del año 2021."
   ]
  },
  {
   "cell_type": "code",
   "execution_count": null,
   "id": "88356a4a",
   "metadata": {},
   "outputs": [],
   "source": [
    "paspobr1=paspobr[(paspobr['codigo_region']==1)]\n",
    "paspobr2=paspobr[(paspobr['codigo_region']==2)]\n",
    "paspobr3=paspobr[(paspobr['codigo_region']==3)]\n",
    "paspobr4=paspobr[(paspobr['codigo_region']==4)]\n",
    "paspobr5=paspobr[(paspobr['codigo_region']==5)]\n",
    "paspobr6=paspobr[(paspobr['codigo_region']==6)]\n",
    "paspobr7=paspobr[(paspobr['codigo_region']==7)]\n",
    "paspobr8=paspobr[(paspobr['codigo_region']==8)]\n",
    "paspobr9=paspobr[(paspobr['codigo_region']==9)]\n",
    "paspobr10=paspobr[(paspobr['codigo_region']==10)]\n",
    "paspobr11=paspobr[(paspobr['codigo_region']==11)]\n",
    "paspobr12=paspobr[(paspobr['codigo_region']==12)]\n",
    "paspobr13=paspobr[(paspobr['codigo_region']==13)]\n",
    "paspobr14=paspobr[(paspobr['codigo_region']==14)]\n",
    "paspobr15=paspobr[(paspobr['codigo_region']==15)]\n",
    "paspobr16=paspobr[(paspobr['codigo_region']==16)]\n",
    "# poblacion y fechas separadas por region"
   ]
  },
  {
   "cell_type": "code",
   "execution_count": null,
   "id": "a4de87b1",
   "metadata": {},
   "outputs": [],
   "source": [
    "paspobr1.drop('codigo_region', axis=1, inplace=True)\n",
    "paspobr2.drop('codigo_region', axis=1, inplace=True)\n",
    "paspobr3.drop('codigo_region', axis=1, inplace=True)\n",
    "paspobr4.drop('codigo_region', axis=1, inplace=True)\n",
    "paspobr5.drop('codigo_region', axis=1, inplace=True)\n",
    "paspobr6.drop('codigo_region', axis=1, inplace=True)\n",
    "paspobr7.drop('codigo_region', axis=1, inplace=True)\n",
    "paspobr8.drop('codigo_region', axis=1, inplace=True)\n",
    "paspobr9.drop('codigo_region', axis=1, inplace=True)\n",
    "paspobr10.drop('codigo_region', axis=1, inplace=True)\n",
    "paspobr11.drop('codigo_region', axis=1, inplace=True)\n",
    "paspobr12.drop('codigo_region', axis=1, inplace=True)\n",
    "paspobr13.drop('codigo_region', axis=1, inplace=True)\n",
    "paspobr14.drop('codigo_region', axis=1, inplace=True)\n",
    "paspobr15.drop('codigo_region', axis=1, inplace=True)\n",
    "paspobr16.drop('codigo_region', axis=1, inplace=True)"
   ]
  },
  {
   "cell_type": "code",
   "execution_count": null,
   "id": "05c74ae9",
   "metadata": {},
   "outputs": [],
   "source": [
    "sbn.lineplot(x='fecha', y='Poblacion', data=paspobr1)\n",
    "# Tarapaca"
   ]
  },
  {
   "cell_type": "code",
   "execution_count": null,
   "id": "84ba61d6",
   "metadata": {},
   "outputs": [],
   "source": [
    "sbn.lineplot(x='fecha', y='Poblacion', data=paspobr2)\n",
    "# Antofagasta"
   ]
  },
  {
   "cell_type": "code",
   "execution_count": null,
   "id": "c5e36433",
   "metadata": {},
   "outputs": [],
   "source": [
    "sbn.lineplot(x='fecha', y='Poblacion', data=paspobr3)\n",
    "# Atacama"
   ]
  },
  {
   "cell_type": "code",
   "execution_count": null,
   "id": "8007d2ef",
   "metadata": {},
   "outputs": [],
   "source": [
    "sbn.lineplot(x='fecha', y='Poblacion', data=paspobr4)\n",
    "# Coquimbo"
   ]
  },
  {
   "cell_type": "code",
   "execution_count": null,
   "id": "84c298df",
   "metadata": {},
   "outputs": [],
   "source": [
    "sbn.lineplot(x='fecha', y='Poblacion', data=paspobr5)\n",
    "# Valparaiso"
   ]
  },
  {
   "cell_type": "code",
   "execution_count": null,
   "id": "911fd18f",
   "metadata": {},
   "outputs": [],
   "source": [
    "sbn.lineplot(x='fecha', y='Poblacion', data=paspobr6)\n",
    "# Ohiggins"
   ]
  },
  {
   "cell_type": "code",
   "execution_count": null,
   "id": "61344a4c",
   "metadata": {},
   "outputs": [],
   "source": [
    "sbn.lineplot(x='fecha', y='Poblacion', data=paspobr7)\n",
    "# El maule"
   ]
  },
  {
   "cell_type": "code",
   "execution_count": null,
   "id": "c9f58f15",
   "metadata": {},
   "outputs": [],
   "source": [
    "sbn.lineplot(x='fecha', y='Poblacion', data=paspobr8)\n",
    "# El bio bio"
   ]
  },
  {
   "cell_type": "code",
   "execution_count": null,
   "id": "a7f159b8",
   "metadata": {},
   "outputs": [],
   "source": [
    "sbn.lineplot(x='fecha', y='Poblacion', data=paspobr9)\n",
    "# La araucania"
   ]
  },
  {
   "cell_type": "code",
   "execution_count": null,
   "id": "b5a4628c",
   "metadata": {},
   "outputs": [],
   "source": [
    "sbn.lineplot(x='fecha', y='Poblacion', data=paspobr10)\n",
    " # Los lagos"
   ]
  },
  {
   "cell_type": "code",
   "execution_count": null,
   "id": "63c7bfcc",
   "metadata": {},
   "outputs": [],
   "source": [
    "sbn.lineplot(x='fecha', y='Poblacion', data=paspobr11)\n",
    "# Aysen"
   ]
  },
  {
   "cell_type": "code",
   "execution_count": null,
   "id": "1f901af0",
   "metadata": {},
   "outputs": [],
   "source": [
    "sbn.lineplot(x='fecha', y='Poblacion', data=paspobr12)\n",
    "#Magallanes y antartica chilena"
   ]
  },
  {
   "cell_type": "code",
   "execution_count": null,
   "id": "82e7ad17",
   "metadata": {},
   "outputs": [],
   "source": [
    "sbn.lineplot(x='fecha', y='Poblacion', data=paspobr13)\n",
    "# Metropolitana de santiago"
   ]
  },
  {
   "cell_type": "code",
   "execution_count": null,
   "id": "fe80daf3",
   "metadata": {},
   "outputs": [],
   "source": [
    "sbn.lineplot(x='fecha', y='Poblacion', data=paspobr14)\n",
    "# Los rios"
   ]
  },
  {
   "cell_type": "code",
   "execution_count": null,
   "id": "c5869a08",
   "metadata": {},
   "outputs": [],
   "source": [
    "sbn.lineplot(x='fecha', y='Poblacion', data=paspobr15)\n",
    "# Arica y parinacota"
   ]
  },
  {
   "cell_type": "code",
   "execution_count": null,
   "id": "0fc93dcb",
   "metadata": {},
   "outputs": [],
   "source": [
    "sbn.lineplot(x='fecha', y='Poblacion', data=paspobr16)\n",
    "# Ñuble"
   ]
  },
  {
   "cell_type": "code",
   "execution_count": null,
   "id": "ef9c6404",
   "metadata": {},
   "outputs": [],
   "source": [
    "r1=paspobr1.groupby(['fecha']).sum()\n",
    "r2=paspobr2.groupby(['fecha']).sum() \n",
    "r3=paspobr3.groupby(['fecha']).sum() \n",
    "r4=paspobr4.groupby(['fecha']).sum() \n",
    "r5=paspobr5.groupby(['fecha']).sum() \n",
    "r6=paspobr6.groupby(['fecha']).sum() \n",
    "r7=paspobr7.groupby(['fecha']).sum() \n",
    "r8=paspobr8.groupby(['fecha']).sum() \n",
    "r9=paspobr9.groupby(['fecha']).sum() \n",
    "r10=paspobr10.groupby(['fecha']).sum() \n",
    "r11=paspobr11.groupby(['fecha']).sum() \n",
    "r12=paspobr12.groupby(['fecha']).sum() \n",
    "r13=paspobr13.groupby(['fecha']).sum() \n",
    "r14=paspobr14.groupby(['fecha']).sum() \n",
    "r15=paspobr15.groupby(['fecha']).sum() \n",
    "r16=paspobr16.groupby(['fecha']).sum()"
   ]
  },
  {
   "cell_type": "code",
   "execution_count": null,
   "id": "8c2d103f",
   "metadata": {},
   "outputs": [],
   "source": [
    "r1.loc[r1['Poblacion'] == r1.max()[0]]\n",
    "# R1 tarapaca\n",
    "# Valor máximo de personas en cuarentera según su región"
   ]
  },
  {
   "cell_type": "code",
   "execution_count": null,
   "id": "225dddac",
   "metadata": {},
   "outputs": [],
   "source": [
    "r2.loc[r2['Poblacion'] == r2.max()[0]]\n",
    "# R2 antofagasta"
   ]
  },
  {
   "cell_type": "code",
   "execution_count": null,
   "id": "84dba715",
   "metadata": {},
   "outputs": [],
   "source": [
    "r3.loc[r3['Poblacion'] == r3.max()[0]]\n",
    "# R3 atacama"
   ]
  },
  {
   "cell_type": "code",
   "execution_count": null,
   "id": "45f1d3bb",
   "metadata": {},
   "outputs": [],
   "source": [
    "r4.loc[r4['Poblacion'] == r4.max()[0]]\n",
    "# R4 coquimbo"
   ]
  },
  {
   "cell_type": "code",
   "execution_count": null,
   "id": "b8a5a499",
   "metadata": {},
   "outputs": [],
   "source": [
    "r5.loc[r5['Poblacion'] == r5.max()[0]]\n",
    "# R5 valparaiso"
   ]
  },
  {
   "cell_type": "code",
   "execution_count": null,
   "id": "9d852015",
   "metadata": {},
   "outputs": [],
   "source": [
    "r6.loc[r6['Poblacion'] == r6.max()[0]]\n",
    "# R6 ohiggins"
   ]
  },
  {
   "cell_type": "code",
   "execution_count": null,
   "id": "89c38d3b",
   "metadata": {},
   "outputs": [],
   "source": [
    "r7.loc[r7['Poblacion'] == r7.max()[0]]\n",
    "# R7 el maule"
   ]
  },
  {
   "cell_type": "code",
   "execution_count": null,
   "id": "206c724f",
   "metadata": {},
   "outputs": [],
   "source": [
    "r8.loc[r8['Poblacion'] == r8.max()[0]]\n",
    "# R8 el bio bio"
   ]
  },
  {
   "cell_type": "code",
   "execution_count": null,
   "id": "0474b8eb",
   "metadata": {},
   "outputs": [],
   "source": [
    "r9.loc[r9['Poblacion'] == r9.max()[0]]\n",
    "# R9 la araucania"
   ]
  },
  {
   "cell_type": "code",
   "execution_count": null,
   "id": "104f6bf7",
   "metadata": {},
   "outputs": [],
   "source": [
    "r10.loc[r10['Poblacion'] == r10.max()[0]]\n",
    "# R10 los lagos"
   ]
  },
  {
   "cell_type": "code",
   "execution_count": null,
   "id": "1bab5250",
   "metadata": {},
   "outputs": [],
   "source": [
    "r11.loc[r11['Poblacion'] == r11.max()[0]]\n",
    "# R11 aysen"
   ]
  },
  {
   "cell_type": "code",
   "execution_count": null,
   "id": "829b76b2",
   "metadata": {},
   "outputs": [],
   "source": [
    "r12.loc[r12['Poblacion'] == r12.max()[0]]\n",
    "# R12 magallanes y antartica chilena"
   ]
  },
  {
   "cell_type": "code",
   "execution_count": null,
   "id": "1c197498",
   "metadata": {},
   "outputs": [],
   "source": [
    "r13.loc[r13['Poblacion'] == r13.max()[0]]\n",
    "# R13 metropolitana de santiago"
   ]
  },
  {
   "cell_type": "code",
   "execution_count": null,
   "id": "23fbce13",
   "metadata": {},
   "outputs": [],
   "source": [
    "r14.loc[r14['Poblacion'] == r14.max()[0]]\n",
    "# R14 los rios"
   ]
  },
  {
   "cell_type": "code",
   "execution_count": null,
   "id": "c14b6ac4",
   "metadata": {},
   "outputs": [],
   "source": [
    "r15.loc[r15['Poblacion'] == r15.max()[0]]\n",
    "# R15 arica y parinacota"
   ]
  },
  {
   "cell_type": "code",
   "execution_count": null,
   "id": "c2dc29cf",
   "metadata": {},
   "outputs": [],
   "source": [
    "r16.loc[r16['Poblacion'] == r16.max()[0]]\n",
    "# R16 ñuble"
   ]
  },
  {
   "cell_type": "code",
   "execution_count": null,
   "id": "22acd11a",
   "metadata": {},
   "outputs": [],
   "source": []
  },
  {
   "cell_type": "code",
   "execution_count": null,
   "id": "d93a1104",
   "metadata": {},
   "outputs": [],
   "source": []
  },
  {
   "cell_type": "code",
   "execution_count": null,
   "id": "da129f71",
   "metadata": {},
   "outputs": [],
   "source": []
  },
  {
   "cell_type": "code",
   "execution_count": null,
   "id": "e98ba861",
   "metadata": {},
   "outputs": [],
   "source": []
  },
  {
   "cell_type": "code",
   "execution_count": null,
   "id": "d9b13c27",
   "metadata": {},
   "outputs": [],
   "source": []
  },
  {
   "cell_type": "code",
   "execution_count": null,
   "id": "60471171",
   "metadata": {},
   "outputs": [],
   "source": []
  },
  {
   "cell_type": "code",
   "execution_count": null,
   "id": "7a785a9f",
   "metadata": {},
   "outputs": [],
   "source": []
  },
  {
   "cell_type": "code",
   "execution_count": null,
   "id": "636ffaf8",
   "metadata": {},
   "outputs": [],
   "source": []
  },
  {
   "cell_type": "code",
   "execution_count": null,
   "id": "46949cb6",
   "metadata": {},
   "outputs": [],
   "source": []
  },
  {
   "cell_type": "code",
   "execution_count": null,
   "id": "47f7529c",
   "metadata": {},
   "outputs": [],
   "source": []
  },
  {
   "cell_type": "code",
   "execution_count": null,
   "id": "2e5c351d",
   "metadata": {},
   "outputs": [],
   "source": []
  }
 ],
 "metadata": {
  "kernelspec": {
   "display_name": "Python 3",
   "language": "python",
   "name": "python3"
  },
  "language_info": {
   "codemirror_mode": {
    "name": "ipython",
    "version": 3
   },
   "file_extension": ".py",
   "mimetype": "text/x-python",
   "name": "python",
   "nbconvert_exporter": "python",
   "pygments_lexer": "ipython3",
   "version": "3.8.8"
  }
 },
 "nbformat": 4,
 "nbformat_minor": 5
}
